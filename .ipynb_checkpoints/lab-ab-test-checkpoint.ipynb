{
 "cells": [
  {
   "cell_type": "markdown",
   "id": "angry-pearl",
   "metadata": {
    "toc": true
   },
   "source": [
    "<h1>Table of Contents<span class=\"tocSkip\"></span></h1>\n",
    "<div class=\"toc\"><ul class=\"toc-item\"><li><span><a href=\"#AB-Testing\" data-toc-modified-id=\"AB-Testing-1\"><span class=\"toc-item-num\">1&nbsp;&nbsp;</span>AB-Testing</a></span></li></ul></div>"
   ]
  },
  {
   "cell_type": "markdown",
   "id": "c92ba6e0",
   "metadata": {},
   "source": [
    "# AB-Testing\n",
    "\n",
    "![cats](images/cats.jpeg)\n",
    "\n",
    "\n",
    "Imaginad que somos los cientificos de datos de la empresa de videojuegos Tactile Entertainment. Los desarrolladores del juego Cookie Cats pretenden introducir un cambio en el juego para aumentar la retencion de los jugadores. En cierto nivel del juego los jugadores se encuentran una puerta que les obliga a esperar o a pagar la app. Actualmente la puerta se encuentra en nivel 30 y se pretende pasar al nivel 40, para comprobar la retencion a 1 y 7 dias. Antes de realizar el cambio definitivo en el juego se raliza un test AB.\n",
    "\n",
    "Los datos estan alojados en `data/cookie_cats.csv`. Nuestro grupo de control sera la version actual `gate_30` y el grupo de tratamiento sera la version `gate_40`. Debemos realizar el test para 1 dia de retencion `retention_1` y para 7 dias `retention_7`."
   ]
  },
  {
   "cell_type": "code",
   "execution_count": 1,
   "id": "ac3b2f52",
   "metadata": {},
   "outputs": [],
   "source": [
    "# librerias\n",
    "\n",
    "import pandas as pd\n",
    "import numpy as np\n",
    "\n",
    "from statsmodels.stats.proportion import proportions_ztest, proportion_confint\n",
    "from scipy.stats import norm, sem\n",
    "\n",
    "import pylab as plt"
   ]
  },
  {
   "cell_type": "code",
   "execution_count": 2,
   "id": "7fe515c2",
   "metadata": {},
   "outputs": [
    {
     "data": {
      "text/html": [
       "<div>\n",
       "<style scoped>\n",
       "    .dataframe tbody tr th:only-of-type {\n",
       "        vertical-align: middle;\n",
       "    }\n",
       "\n",
       "    .dataframe tbody tr th {\n",
       "        vertical-align: top;\n",
       "    }\n",
       "\n",
       "    .dataframe thead th {\n",
       "        text-align: right;\n",
       "    }\n",
       "</style>\n",
       "<table border=\"1\" class=\"dataframe\">\n",
       "  <thead>\n",
       "    <tr style=\"text-align: right;\">\n",
       "      <th></th>\n",
       "      <th>userid</th>\n",
       "      <th>version</th>\n",
       "      <th>sum_gamerounds</th>\n",
       "      <th>retention_1</th>\n",
       "      <th>retention_7</th>\n",
       "    </tr>\n",
       "  </thead>\n",
       "  <tbody>\n",
       "    <tr>\n",
       "      <th>0</th>\n",
       "      <td>116</td>\n",
       "      <td>gate_30</td>\n",
       "      <td>3</td>\n",
       "      <td>False</td>\n",
       "      <td>False</td>\n",
       "    </tr>\n",
       "    <tr>\n",
       "      <th>1</th>\n",
       "      <td>337</td>\n",
       "      <td>gate_30</td>\n",
       "      <td>38</td>\n",
       "      <td>True</td>\n",
       "      <td>False</td>\n",
       "    </tr>\n",
       "    <tr>\n",
       "      <th>2</th>\n",
       "      <td>377</td>\n",
       "      <td>gate_40</td>\n",
       "      <td>165</td>\n",
       "      <td>True</td>\n",
       "      <td>False</td>\n",
       "    </tr>\n",
       "    <tr>\n",
       "      <th>3</th>\n",
       "      <td>483</td>\n",
       "      <td>gate_40</td>\n",
       "      <td>1</td>\n",
       "      <td>False</td>\n",
       "      <td>False</td>\n",
       "    </tr>\n",
       "    <tr>\n",
       "      <th>4</th>\n",
       "      <td>488</td>\n",
       "      <td>gate_40</td>\n",
       "      <td>179</td>\n",
       "      <td>True</td>\n",
       "      <td>True</td>\n",
       "    </tr>\n",
       "  </tbody>\n",
       "</table>\n",
       "</div>"
      ],
      "text/plain": [
       "   userid  version  sum_gamerounds  retention_1  retention_7\n",
       "0     116  gate_30               3        False        False\n",
       "1     337  gate_30              38         True        False\n",
       "2     377  gate_40             165         True        False\n",
       "3     483  gate_40               1        False        False\n",
       "4     488  gate_40             179         True         True"
      ]
     },
     "execution_count": 2,
     "metadata": {},
     "output_type": "execute_result"
    }
   ],
   "source": [
    "data = pd.read_csv('data/cookie_cats.csv')\n",
    "\n",
    "data.head()"
   ]
  },
  {
   "cell_type": "code",
   "execution_count": 3,
   "id": "345e11d2",
   "metadata": {},
   "outputs": [],
   "source": [
    "data = data[data.sum_gamerounds > 5]"
   ]
  },
  {
   "cell_type": "code",
   "execution_count": 4,
   "id": "a32249fa",
   "metadata": {},
   "outputs": [
    {
     "data": {
      "text/plain": [
       "337        1\n",
       "6658977    1\n",
       "6657982    1\n",
       "6658134    1\n",
       "6658202    1\n",
       "          ..\n",
       "3344551    1\n",
       "3344575    1\n",
       "3344886    1\n",
       "3345059    1\n",
       "9999861    1\n",
       "Name: userid, Length: 65472, dtype: int64"
      ]
     },
     "execution_count": 4,
     "metadata": {},
     "output_type": "execute_result"
    }
   ],
   "source": [
    "data.userid.value_counts() # Cada usuario es único, no hay interferencia entre grupos de testeo"
   ]
  },
  {
   "cell_type": "code",
   "execution_count": 5,
   "id": "80acdc7e",
   "metadata": {},
   "outputs": [
    {
     "data": {
      "text/html": [
       "<div>\n",
       "<style scoped>\n",
       "    .dataframe tbody tr th:only-of-type {\n",
       "        vertical-align: middle;\n",
       "    }\n",
       "\n",
       "    .dataframe tbody tr th {\n",
       "        vertical-align: top;\n",
       "    }\n",
       "\n",
       "    .dataframe thead th {\n",
       "        text-align: right;\n",
       "    }\n",
       "</style>\n",
       "<table border=\"1\" class=\"dataframe\">\n",
       "  <thead>\n",
       "    <tr style=\"text-align: right;\">\n",
       "      <th></th>\n",
       "      <th>version</th>\n",
       "      <th>retention_1</th>\n",
       "    </tr>\n",
       "  </thead>\n",
       "  <tbody>\n",
       "    <tr>\n",
       "      <th>1</th>\n",
       "      <td>gate_30</td>\n",
       "      <td>True</td>\n",
       "    </tr>\n",
       "    <tr>\n",
       "      <th>2</th>\n",
       "      <td>gate_40</td>\n",
       "      <td>True</td>\n",
       "    </tr>\n",
       "    <tr>\n",
       "      <th>4</th>\n",
       "      <td>gate_40</td>\n",
       "      <td>True</td>\n",
       "    </tr>\n",
       "    <tr>\n",
       "      <th>5</th>\n",
       "      <td>gate_40</td>\n",
       "      <td>True</td>\n",
       "    </tr>\n",
       "    <tr>\n",
       "      <th>8</th>\n",
       "      <td>gate_40</td>\n",
       "      <td>True</td>\n",
       "    </tr>\n",
       "    <tr>\n",
       "      <th>...</th>\n",
       "      <td>...</td>\n",
       "      <td>...</td>\n",
       "    </tr>\n",
       "    <tr>\n",
       "      <th>90184</th>\n",
       "      <td>gate_40</td>\n",
       "      <td>True</td>\n",
       "    </tr>\n",
       "    <tr>\n",
       "      <th>90185</th>\n",
       "      <td>gate_40</td>\n",
       "      <td>False</td>\n",
       "    </tr>\n",
       "    <tr>\n",
       "      <th>90186</th>\n",
       "      <td>gate_30</td>\n",
       "      <td>True</td>\n",
       "    </tr>\n",
       "    <tr>\n",
       "      <th>90187</th>\n",
       "      <td>gate_40</td>\n",
       "      <td>True</td>\n",
       "    </tr>\n",
       "    <tr>\n",
       "      <th>90188</th>\n",
       "      <td>gate_40</td>\n",
       "      <td>False</td>\n",
       "    </tr>\n",
       "  </tbody>\n",
       "</table>\n",
       "<p>65472 rows × 2 columns</p>\n",
       "</div>"
      ],
      "text/plain": [
       "       version  retention_1\n",
       "1      gate_30         True\n",
       "2      gate_40         True\n",
       "4      gate_40         True\n",
       "5      gate_40         True\n",
       "8      gate_40         True\n",
       "...        ...          ...\n",
       "90184  gate_40         True\n",
       "90185  gate_40        False\n",
       "90186  gate_30         True\n",
       "90187  gate_40         True\n",
       "90188  gate_40        False\n",
       "\n",
       "[65472 rows x 2 columns]"
      ]
     },
     "execution_count": 5,
     "metadata": {},
     "output_type": "execute_result"
    }
   ],
   "source": [
    "ret1 = data[['version','retention_1']] # Datos para el primer AB test\n",
    "\n",
    "ret1"
   ]
  },
  {
   "cell_type": "code",
   "execution_count": 6,
   "id": "6c6456b0",
   "metadata": {},
   "outputs": [
    {
     "data": {
      "text/html": [
       "<div>\n",
       "<style scoped>\n",
       "    .dataframe tbody tr th:only-of-type {\n",
       "        vertical-align: middle;\n",
       "    }\n",
       "\n",
       "    .dataframe tbody tr th {\n",
       "        vertical-align: top;\n",
       "    }\n",
       "\n",
       "    .dataframe thead th {\n",
       "        text-align: right;\n",
       "    }\n",
       "</style>\n",
       "<table border=\"1\" class=\"dataframe\">\n",
       "  <thead>\n",
       "    <tr style=\"text-align: right;\">\n",
       "      <th></th>\n",
       "      <th>version</th>\n",
       "      <th>retention_7</th>\n",
       "    </tr>\n",
       "  </thead>\n",
       "  <tbody>\n",
       "    <tr>\n",
       "      <th>1</th>\n",
       "      <td>gate_30</td>\n",
       "      <td>False</td>\n",
       "    </tr>\n",
       "    <tr>\n",
       "      <th>2</th>\n",
       "      <td>gate_40</td>\n",
       "      <td>False</td>\n",
       "    </tr>\n",
       "    <tr>\n",
       "      <th>4</th>\n",
       "      <td>gate_40</td>\n",
       "      <td>True</td>\n",
       "    </tr>\n",
       "    <tr>\n",
       "      <th>5</th>\n",
       "      <td>gate_40</td>\n",
       "      <td>True</td>\n",
       "    </tr>\n",
       "    <tr>\n",
       "      <th>8</th>\n",
       "      <td>gate_40</td>\n",
       "      <td>True</td>\n",
       "    </tr>\n",
       "    <tr>\n",
       "      <th>...</th>\n",
       "      <td>...</td>\n",
       "      <td>...</td>\n",
       "    </tr>\n",
       "    <tr>\n",
       "      <th>90184</th>\n",
       "      <td>gate_40</td>\n",
       "      <td>False</td>\n",
       "    </tr>\n",
       "    <tr>\n",
       "      <th>90185</th>\n",
       "      <td>gate_40</td>\n",
       "      <td>False</td>\n",
       "    </tr>\n",
       "    <tr>\n",
       "      <th>90186</th>\n",
       "      <td>gate_30</td>\n",
       "      <td>False</td>\n",
       "    </tr>\n",
       "    <tr>\n",
       "      <th>90187</th>\n",
       "      <td>gate_40</td>\n",
       "      <td>False</td>\n",
       "    </tr>\n",
       "    <tr>\n",
       "      <th>90188</th>\n",
       "      <td>gate_40</td>\n",
       "      <td>False</td>\n",
       "    </tr>\n",
       "  </tbody>\n",
       "</table>\n",
       "<p>65472 rows × 2 columns</p>\n",
       "</div>"
      ],
      "text/plain": [
       "       version  retention_7\n",
       "1      gate_30        False\n",
       "2      gate_40        False\n",
       "4      gate_40         True\n",
       "5      gate_40         True\n",
       "8      gate_40         True\n",
       "...        ...          ...\n",
       "90184  gate_40        False\n",
       "90185  gate_40        False\n",
       "90186  gate_30        False\n",
       "90187  gate_40        False\n",
       "90188  gate_40        False\n",
       "\n",
       "[65472 rows x 2 columns]"
      ]
     },
     "execution_count": 6,
     "metadata": {},
     "output_type": "execute_result"
    }
   ],
   "source": [
    "ret7 = data[['version','retention_7']] # Datos para el segundo AB test\n",
    "\n",
    "ret7"
   ]
  },
  {
   "cell_type": "markdown",
   "id": "eb408bf6",
   "metadata": {},
   "source": [
    "No voy a seleccionar muestras, mejor tirar del dataset entero ya que lo tenemos. Además, como no hay ninguna hipótesis concreta de tasas de retorno que testear -sólo queremos ver si hay diferencia entre ambas estrategias- no necesitamos un tamaño de muestra específico, así que tiraremos con lo que hay."
   ]
  },
  {
   "cell_type": "code",
   "execution_count": 7,
   "id": "5b90c429",
   "metadata": {},
   "outputs": [
    {
     "data": {
      "text/html": [
       "<div>\n",
       "<style scoped>\n",
       "    .dataframe tbody tr th:only-of-type {\n",
       "        vertical-align: middle;\n",
       "    }\n",
       "\n",
       "    .dataframe tbody tr th {\n",
       "        vertical-align: top;\n",
       "    }\n",
       "\n",
       "    .dataframe thead th {\n",
       "        text-align: right;\n",
       "    }\n",
       "</style>\n",
       "<table border=\"1\" class=\"dataframe\">\n",
       "  <thead>\n",
       "    <tr style=\"text-align: right;\">\n",
       "      <th>retention_1</th>\n",
       "      <th>False</th>\n",
       "      <th>True</th>\n",
       "    </tr>\n",
       "    <tr>\n",
       "      <th>version</th>\n",
       "      <th></th>\n",
       "      <th></th>\n",
       "    </tr>\n",
       "  </thead>\n",
       "  <tbody>\n",
       "    <tr>\n",
       "      <th>gate_30</th>\n",
       "      <td>13391</td>\n",
       "      <td>19253</td>\n",
       "    </tr>\n",
       "    <tr>\n",
       "      <th>gate_40</th>\n",
       "      <td>13614</td>\n",
       "      <td>19214</td>\n",
       "    </tr>\n",
       "  </tbody>\n",
       "</table>\n",
       "</div>"
      ],
      "text/plain": [
       "retention_1  False  True \n",
       "version                  \n",
       "gate_30      13391  19253\n",
       "gate_40      13614  19214"
      ]
     },
     "execution_count": 7,
     "metadata": {},
     "output_type": "execute_result"
    }
   ],
   "source": [
    "# Testeo para retention_1\n",
    "\n",
    "from statsmodels.stats.proportion import proportions_ztest, proportion_confint\n",
    "\n",
    "# Vamos a hacerlo con una pivot table:\n",
    "\n",
    "data1 = pd.crosstab(ret1.version, ret1.retention_1)\n",
    "\n",
    "data1"
   ]
  },
  {
   "cell_type": "code",
   "execution_count": 8,
   "id": "649810bd",
   "metadata": {},
   "outputs": [
    {
     "name": "stdout",
     "output_type": "stream",
     "text": [
      "z-score: 1.17\n",
      "p-valor: 0.243\n",
      "intervalo conf 95% para grupo 30 (control): [0.584, 0.595]\n",
      "intervalo conf 95% para grupo 40: [0.580, 0.591]\n"
     ]
    }
   ],
   "source": [
    "impresiones1 = [data1.iloc[0,0] + data1.iloc[0,1], data1.iloc[1,0] + data1.iloc[1,1]] # [control 30, nuevo 40]\n",
    "\n",
    "retenciones1 = [data1.iloc[0,1], data1.iloc[1,1]] # [control 30, nuevo 40]\n",
    "\n",
    "z_score, p_value = proportions_ztest(retenciones1, nobs = impresiones1) \n",
    "\n",
    "(gate_30a, gate_40a), (gate_30b, gate_40b) = proportion_confint(retenciones1, \n",
    "                                                                nobs = impresiones1,\n",
    "                                                                alpha = 0.05)\n",
    "\n",
    "print(f'z-score: {z_score:.2f}')\n",
    "\n",
    "print(f'p-valor: {p_value:.3f}')\n",
    "\n",
    "print(f'intervalo conf 95% para grupo 30 (control): [{gate_30a:.3f}, {gate_30b:.3f}]')\n",
    "\n",
    "print(f'intervalo conf 95% para grupo 40: [{gate_40a:.3f}, {gate_40b:.3f}]')"
   ]
  },
  {
   "cell_type": "markdown",
   "id": "8fd54208",
   "metadata": {},
   "source": [
    "Con respecto a la tasa de retención 1 día después de llegar a la puerta, el $p$-valor es mayor que $\\alpha$ = 0.05... no podemos rechazar la hipótesis nula $H_0$, lo que significa que la nueva configuración del videojuego no tiene una tasa de retención significativamente diferente a la vieja.\n",
    "\n",
    "Echemos un ojo a la retención tras 7 días a ver si es lo mismo:"
   ]
  },
  {
   "cell_type": "code",
   "execution_count": 9,
   "id": "a048a711",
   "metadata": {},
   "outputs": [
    {
     "data": {
      "text/html": [
       "<div>\n",
       "<style scoped>\n",
       "    .dataframe tbody tr th:only-of-type {\n",
       "        vertical-align: middle;\n",
       "    }\n",
       "\n",
       "    .dataframe tbody tr th {\n",
       "        vertical-align: top;\n",
       "    }\n",
       "\n",
       "    .dataframe thead th {\n",
       "        text-align: right;\n",
       "    }\n",
       "</style>\n",
       "<table border=\"1\" class=\"dataframe\">\n",
       "  <thead>\n",
       "    <tr style=\"text-align: right;\">\n",
       "      <th>retention_7</th>\n",
       "      <th>False</th>\n",
       "      <th>True</th>\n",
       "    </tr>\n",
       "    <tr>\n",
       "      <th>version</th>\n",
       "      <th></th>\n",
       "      <th></th>\n",
       "    </tr>\n",
       "  </thead>\n",
       "  <tbody>\n",
       "    <tr>\n",
       "      <th>gate_30</th>\n",
       "      <td>24289</td>\n",
       "      <td>8355</td>\n",
       "    </tr>\n",
       "    <tr>\n",
       "      <th>gate_40</th>\n",
       "      <td>24715</td>\n",
       "      <td>8113</td>\n",
       "    </tr>\n",
       "  </tbody>\n",
       "</table>\n",
       "</div>"
      ],
      "text/plain": [
       "retention_7  False  True \n",
       "version                  \n",
       "gate_30      24289   8355\n",
       "gate_40      24715   8113"
      ]
     },
     "execution_count": 9,
     "metadata": {},
     "output_type": "execute_result"
    }
   ],
   "source": [
    "# Testeo para retention_7\n",
    "\n",
    "data7 = pd.crosstab(ret7.version, ret7.retention_7)\n",
    "\n",
    "data7"
   ]
  },
  {
   "cell_type": "code",
   "execution_count": 10,
   "id": "433f1540",
   "metadata": {},
   "outputs": [
    {
     "name": "stdout",
     "output_type": "stream",
     "text": [
      "z-score: 2.60\n",
      "p-valor: 0.009\n",
      "intervalo conf 95% para grupo 30 (control): [0.251, 0.261]\n",
      "intervalo conf 95% para grupo 40: [0.242, 0.252]\n"
     ]
    }
   ],
   "source": [
    "impresiones7 = [data7.iloc[0,0] + data7.iloc[0,1], data7.iloc[1,0] + data7.iloc[1,1]] # [control 30, nuevo 40]\n",
    "\n",
    "retenciones7 = [data7.iloc[0,1], data7.iloc[1,1]] # [control 30, nuevo 40]\n",
    "\n",
    "z_score, p_value = proportions_ztest(retenciones7, nobs = impresiones7) \n",
    "\n",
    "(gate_30a, gate_40a), (gate_30b, gate_40b) = proportion_confint(retenciones7, \n",
    "                                                                nobs = impresiones7,\n",
    "                                                                alpha = 0.05)\n",
    "\n",
    "print(f'z-score: {z_score:.2f}')\n",
    "\n",
    "print(f'p-valor: {p_value:.3f}')\n",
    "\n",
    "print(f'intervalo conf 95% para grupo 30 (control): [{gate_30a:.3f}, {gate_30b:.3f}]')\n",
    "\n",
    "print(f'intervalo conf 95% para grupo 40: [{gate_40a:.3f}, {gate_40b:.3f}]')"
   ]
  },
  {
   "cell_type": "markdown",
   "id": "11167ab8",
   "metadata": {},
   "source": [
    "En este caso, el $p$-valor sí es menor que $\\alpha$ = 0.05. Podemos rechazar la hipótesis nula de que no hay diferencias entre poner la espera en la puerta 30 o en la puerta 40, aunque no como queríamos. \n",
    "\n",
    "La nueva configuración del videojuego tiene una peor tasa de retención que la vieja, ya que si nos fijamos en los intervalos de confianza vemos que la tasa media del segundo grupo es menor y que además los intervalos de ambos no solapan en ningún punto.\n",
    "\n",
    "Al 95% de confianza, podemos concluir que la estrategia antigua es mejor."
   ]
  },
  {
   "cell_type": "markdown",
   "id": "37ff7b8c",
   "metadata": {},
   "source": [
    "# Comprobación: probemos con Bayes"
   ]
  },
  {
   "cell_type": "code",
   "execution_count": 11,
   "id": "f3866c13",
   "metadata": {},
   "outputs": [],
   "source": [
    "import warnings\n",
    "warnings.simplefilter('ignore')\n",
    "\n",
    "from scipy.stats import bernoulli, beta   \n",
    "from bayes import *"
   ]
  },
  {
   "cell_type": "code",
   "execution_count": 12,
   "id": "4c9c488f",
   "metadata": {},
   "outputs": [
    {
     "data": {
      "text/html": [
       "<div>\n",
       "<style scoped>\n",
       "    .dataframe tbody tr th:only-of-type {\n",
       "        vertical-align: middle;\n",
       "    }\n",
       "\n",
       "    .dataframe tbody tr th {\n",
       "        vertical-align: top;\n",
       "    }\n",
       "\n",
       "    .dataframe thead th {\n",
       "        text-align: right;\n",
       "    }\n",
       "</style>\n",
       "<table border=\"1\" class=\"dataframe\">\n",
       "  <thead>\n",
       "    <tr style=\"text-align: right;\">\n",
       "      <th>retention_1</th>\n",
       "      <th>False</th>\n",
       "      <th>True</th>\n",
       "    </tr>\n",
       "    <tr>\n",
       "      <th>version</th>\n",
       "      <th></th>\n",
       "      <th></th>\n",
       "    </tr>\n",
       "  </thead>\n",
       "  <tbody>\n",
       "    <tr>\n",
       "      <th>gate_30</th>\n",
       "      <td>13391</td>\n",
       "      <td>19253</td>\n",
       "    </tr>\n",
       "    <tr>\n",
       "      <th>gate_40</th>\n",
       "      <td>13614</td>\n",
       "      <td>19214</td>\n",
       "    </tr>\n",
       "  </tbody>\n",
       "</table>\n",
       "</div>"
      ],
      "text/plain": [
       "retention_1  False  True \n",
       "version                  \n",
       "gate_30      13391  19253\n",
       "gate_40      13614  19214"
      ]
     },
     "execution_count": 12,
     "metadata": {},
     "output_type": "execute_result"
    }
   ],
   "source": [
    "data1"
   ]
  },
  {
   "cell_type": "code",
   "execution_count": 13,
   "id": "432229df",
   "metadata": {},
   "outputs": [
    {
     "data": {
      "text/html": [
       "<div>\n",
       "<style scoped>\n",
       "    .dataframe tbody tr th:only-of-type {\n",
       "        vertical-align: middle;\n",
       "    }\n",
       "\n",
       "    .dataframe tbody tr th {\n",
       "        vertical-align: top;\n",
       "    }\n",
       "\n",
       "    .dataframe thead th {\n",
       "        text-align: right;\n",
       "    }\n",
       "</style>\n",
       "<table border=\"1\" class=\"dataframe\">\n",
       "  <thead>\n",
       "    <tr style=\"text-align: right;\">\n",
       "      <th>retention_7</th>\n",
       "      <th>False</th>\n",
       "      <th>True</th>\n",
       "    </tr>\n",
       "    <tr>\n",
       "      <th>version</th>\n",
       "      <th></th>\n",
       "      <th></th>\n",
       "    </tr>\n",
       "  </thead>\n",
       "  <tbody>\n",
       "    <tr>\n",
       "      <th>gate_30</th>\n",
       "      <td>24289</td>\n",
       "      <td>8355</td>\n",
       "    </tr>\n",
       "    <tr>\n",
       "      <th>gate_40</th>\n",
       "      <td>24715</td>\n",
       "      <td>8113</td>\n",
       "    </tr>\n",
       "  </tbody>\n",
       "</table>\n",
       "</div>"
      ],
      "text/plain": [
       "retention_7  False  True \n",
       "version                  \n",
       "gate_30      24289   8355\n",
       "gate_40      24715   8113"
      ]
     },
     "execution_count": 13,
     "metadata": {},
     "output_type": "execute_result"
    }
   ],
   "source": [
    "data7"
   ]
  },
  {
   "cell_type": "code",
   "execution_count": 14,
   "id": "cf93672f",
   "metadata": {},
   "outputs": [
    {
     "data": {
      "text/plain": [
       "([32644, 32828], [19253, 19214])"
      ]
     },
     "execution_count": 14,
     "metadata": {},
     "output_type": "execute_result"
    }
   ],
   "source": [
    "impresiones1, retenciones1"
   ]
  },
  {
   "cell_type": "code",
   "execution_count": 15,
   "id": "78447ca1",
   "metadata": {},
   "outputs": [
    {
     "data": {
      "text/plain": [
       "([32644, 32828], [8355, 8113])"
      ]
     },
     "execution_count": 15,
     "metadata": {},
     "output_type": "execute_result"
    }
   ],
   "source": [
    "impresiones7, retenciones7"
   ]
  },
  {
   "cell_type": "code",
   "execution_count": 16,
   "id": "da35d46b",
   "metadata": {},
   "outputs": [
    {
     "data": {
      "text/plain": [
       "(0.5897812902040066, 0.5852878464818764)"
      ]
     },
     "execution_count": 16,
     "metadata": {},
     "output_type": "execute_result"
    }
   ],
   "source": [
    "# Empecemos por testear la retención en el día 1:\n",
    "\n",
    "# A prioris:\n",
    "\n",
    "a_30, b_30 = 1 + retenciones1[0], 1 + impresiones1[0] - retenciones1[0]\n",
    "a_40, b_40 = 1 + retenciones1[1], 1 + impresiones1[1] - retenciones1[1]\n",
    "\n",
    "\n",
    "beta_30 = beta(a_30, b_30)\n",
    "beta_40 = beta(a_40, b_40)\n",
    "\n",
    "beta_30.mean(), beta_40.mean()"
   ]
  },
  {
   "cell_type": "code",
   "execution_count": 17,
   "id": "9ad212ff",
   "metadata": {},
   "outputs": [
    {
     "data": {
      "image/png": "[encoded data removed]",
      "text/plain": [
       "<Figure size 640x480 with 1 Axes>"
      ]
     },
     "metadata": {},
     "output_type": "display_data"
    }
   ],
   "source": [
    "# Parece que están cerquita. Vamos a pintarlas y echar un ojo:\n",
    "\n",
    "x = np.linspace(beta_30.mean()-0.02, beta_40.mean()+0.02, 1000)\n",
    "\n",
    "def plot(betas, nombres):\n",
    "    \n",
    "    for bet, nom in zip(betas, nombres):\n",
    "        \n",
    "        y = bet.pdf(x)\n",
    "        y_media = bet.mean()\n",
    "        y_std = bet.std()\n",
    "        \n",
    "        plt.plot(x, y, label='{}, tasa de ret: {:.6f} $\\pm$ {:.10f}'.format(nom, y_media, y_std))\n",
    "        plt.yticks([])\n",
    "        \n",
    "    plt.legend()\n",
    "    plt.show();\n",
    "\n",
    "plot([beta_30, beta_40], ['grupo_30 (c)', 'grupo_40'])"
   ]
  },
  {
   "cell_type": "code",
   "execution_count": 18,
   "id": "99688c81",
   "metadata": {},
   "outputs": [
    {
     "data": {
      "text/plain": [
       "0.7618830567812584"
      ]
     },
     "execution_count": 18,
     "metadata": {},
     "output_type": "execute_result"
    }
   ],
   "source": [
    "# Diferencia porcentual entre las medias:\n",
    "\n",
    "salto = 100*(beta_30.mean()-beta_40.mean())/beta_30.mean()\n",
    "\n",
    "salto"
   ]
  },
  {
   "cell_type": "code",
   "execution_count": 19,
   "id": "4b1c7219",
   "metadata": {},
   "outputs": [
    {
     "name": "stdout",
     "output_type": "stream",
     "text": [
      "La nueva estrategia disminuye la tasa de retención en el 1er día en un 0.76%,\n",
      "con una probabilidad del 87.86%\n"
     ]
    }
   ],
   "source": [
    "# Es poquillo... veamos la probabilidad que tenemos de que aun poca, exista esta diferencia:\n",
    "\n",
    "prob = calc_prob(beta_30, beta_40)  # Primero la que lleva la delantera, luego la otra\n",
    "\n",
    "print (\n",
    "'''La nueva estrategia disminuye la tasa de retención en el 1er día en un {:2.2f}%,\n",
    "con una probabilidad del {:2.2f}%'''\n",
    "    .format(abs(salto), prob*100)\n",
    ")"
   ]
  },
  {
   "cell_type": "code",
   "execution_count": 20,
   "id": "ced7de9b",
   "metadata": {},
   "outputs": [
    {
     "data": {
      "text/plain": [
       "(0.2559578508852539, 0.24715199512640879)"
      ]
     },
     "execution_count": 20,
     "metadata": {},
     "output_type": "execute_result"
    }
   ],
   "source": [
    "# Vamos con la retención en el día 7:\n",
    "\n",
    "# A prioris:\n",
    "\n",
    "a_30, b_30 = 1 + retenciones7[0], 1 + impresiones7[0] - retenciones7[0]\n",
    "a_40, b_40 = 1 + retenciones7[1], 1 + impresiones7[1] - retenciones7[1]\n",
    "\n",
    "\n",
    "beta_30 = beta(a_30, b_30)\n",
    "beta_40 = beta(a_40, b_40)\n",
    "\n",
    "beta_30.mean(), beta_40.mean()"
   ]
  },
  {
   "cell_type": "code",
   "execution_count": 21,
   "id": "e246f270",
   "metadata": {},
   "outputs": [
    {
     "data": {
      "image/png": "[encoded data removed]",
      "text/plain": [
       "<Figure size 640x480 with 1 Axes>"
      ]
     },
     "metadata": {},
     "output_type": "display_data"
    }
   ],
   "source": [
    "# Aquí hay más diferencia. Pintemos y echemos un ojo:\n",
    "\n",
    "x = np.linspace(beta_30.mean()-0.02, beta_40.mean()+0.02, 1000)\n",
    "\n",
    "def plot(betas, nombres):\n",
    "    \n",
    "    for bet, nom in zip(betas, nombres):\n",
    "        \n",
    "        y = bet.pdf(x)\n",
    "        y_media = bet.mean()\n",
    "        y_std = bet.std()\n",
    "        \n",
    "        plt.plot(x, y, label='{}, tasa de ret: {:.6f} $\\pm$ {:.10f}'.format(nom, y_media, y_std))\n",
    "        plt.yticks([])\n",
    "        \n",
    "    plt.legend()\n",
    "    plt.show();\n",
    "\n",
    "plot([beta_30, beta_40], ['grupo_30 (c)', 'grupo_40'])"
   ]
  },
  {
   "cell_type": "code",
   "execution_count": 22,
   "id": "9fe11024",
   "metadata": {},
   "outputs": [
    {
     "data": {
      "text/plain": [
       "3.4403538427867164"
      ]
     },
     "execution_count": 22,
     "metadata": {},
     "output_type": "execute_result"
    }
   ],
   "source": [
    "# Diferencia porcentual entre las medias:\n",
    "\n",
    "salto = 100*(beta_30.mean()-beta_40.mean())/beta_30.mean()\n",
    "\n",
    "salto"
   ]
  },
  {
   "cell_type": "code",
   "execution_count": 23,
   "id": "d325152e",
   "metadata": {},
   "outputs": [
    {
     "name": "stdout",
     "output_type": "stream",
     "text": [
      "La nueva estrategia disminuye la tasa de retención en el 7º día en un 3.44%,\n",
      "con una probabilidad del 99.53%\n"
     ]
    }
   ],
   "source": [
    "# Es bastante. A ver con qué seguridad vamos:\n",
    "\n",
    "prob = calc_prob(beta_30, beta_40) # Primero la que lleva la delantera, luego la otra\n",
    "\n",
    "print (\n",
    "'''La nueva estrategia disminuye la tasa de retención en el 7º día en un {:2.2f}%,\n",
    "con una probabilidad del {:2.2f}%'''\n",
    "    .format(abs(salto), prob*100)\n",
    ")"
   ]
  },
  {
   "cell_type": "markdown",
   "id": "9a7169b3",
   "metadata": {},
   "source": [
    "# Conclusiones"
   ]
  },
  {
   "cell_type": "markdown",
   "id": "8c9a0033",
   "metadata": {},
   "source": [
    "En resumen, está claro que el cambio introducido en el juego tiene un efecto significativo (y negativo) sobre la tasa de retención en el día 7. En el día 1 podríamos discutirlo, pero ya que no hemos encontrado un efecto positivo desde ninguno de los dos testeos lo lógico sería dejar el cambio atrás y pensar en mejores formas de mejorar la situación."
   ]
  }
 ],
 "metadata": {
  "finalized": {
   "timestamp": 1642857010293,
   "trusted": true
  },
  "kernelspec": {
   "display_name": "Python 3 (ipykernel)",
   "language": "python",
   "name": "python3"
  },
  "language_info": {
   "codemirror_mode": {
    "name": "ipython",
    "version": 3
   },
   "file_extension": ".py",
   "mimetype": "text/x-python",
   "name": "python",
   "nbconvert_exporter": "python",
   "pygments_lexer": "ipython3",
   "version": "3.10.9"
  },
  "toc": {
   "base_numbering": 1,
   "nav_menu": {},
   "number_sections": true,
   "sideBar": true,
   "skip_h1_title": false,
   "title_cell": "Table of Contents",
   "title_sidebar": "Contents",
   "toc_cell": true,
   "toc_position": {},
   "toc_section_display": true,
   "toc_window_display": false
  },
  "varInspector": {
   "cols": {
    "lenName": 16,
    "lenType": 16,
    "lenVar": 40
   },
   "kernels_config": {
    "python": {
     "delete_cmd_postfix": "",
     "delete_cmd_prefix": "del ",
     "library": "var_list.py",
     "varRefreshCmd": "print(var_dic_list())"
    },
    "r": {
     "delete_cmd_postfix": ") ",
     "delete_cmd_prefix": "rm(",
     "library": "var_list.r",
     "varRefreshCmd": "cat(var_dic_list()) "
    }
   },
   "types_to_exclude": [
    "module",
    "function",
    "builtin_function_or_method",
    "instance",
    "_Feature"
   ],
   "window_display": false
  }
 },
 "nbformat": 4,
 "nbformat_minor": 5
}
