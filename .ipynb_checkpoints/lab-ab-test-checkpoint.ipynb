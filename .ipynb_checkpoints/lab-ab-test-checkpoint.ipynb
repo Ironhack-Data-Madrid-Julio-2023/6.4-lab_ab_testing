{
 "cells": [
  {
   "cell_type": "markdown",
   "id": "angry-pearl",
   "metadata": {
    "toc": true
   },
   "source": [
    "<h1>Table of Contents<span class=\"tocSkip\"></span></h1>\n",
    "<div class=\"toc\"><ul class=\"toc-item\"><li><span><a href=\"#AB-Testing\" data-toc-modified-id=\"AB-Testing-1\"><span class=\"toc-item-num\">1&nbsp;&nbsp;</span>AB-Testing</a></span></li></ul></div>"
   ]
  },
  {
   "cell_type": "markdown",
   "id": "c92ba6e0",
   "metadata": {},
   "source": [
    "# AB-Testing\n",
    "\n",
    "![cats](images/cats.jpeg)\n",
    "\n",
    "\n",
    "Imaginad que somos los cientificos de datos de la empresa de videojuegos Tactile Entertainment. Los desarrolladores del juego Cookie Cats pretenden introducir un cambio en el juego para aumentar la retencion de los jugadores. En cierto nivel del juego los jugadores se encuentran una puerta que les obliga a esperar o a pagar la app. Actualmente la puerta se encuentra en nivel 30 y se pretende pasar al nivel 40, para comprobar la retencion a 1 y 7 dias. Antes de realizar el cambio definitivo en el juego se raliza un test AB.\n",
    "\n",
    "Los datos estan alojados en `data/cookie_cats.csv`. Nuestro grupo de control sera la version actual `gate_30` y el grupo de tratamiento sera la version `gate_40`. Debemos realizar el test para 1 dia de retencion `retention_1` y para 7 dias `retention_7`."
   ]
  },
  {
   "cell_type": "code",
   "execution_count": 1,
   "id": "ac3b2f52",
   "metadata": {},
   "outputs": [],
   "source": [
    "# librerias\n",
    "\n",
    "import pandas as pd\n",
    "import numpy as np\n",
    "\n",
    "from statsmodels.stats.proportion import proportions_ztest, proportion_confint\n",
    "from scipy.stats import norm, sem\n",
    "\n",
    "import pylab as plt"
   ]
  },
  {
   "cell_type": "code",
   "execution_count": 4,
   "id": "ac1a7ff5",
   "metadata": {},
   "outputs": [],
   "source": [
    "cookie_cats = pd.read_csv('data/cookie_cats.csv')"
   ]
  },
  {
   "cell_type": "code",
   "execution_count": 5,
   "id": "85b49dc0",
   "metadata": {},
   "outputs": [
    {
     "data": {
      "text/html": [
       "<div>\n",
       "<style scoped>\n",
       "    .dataframe tbody tr th:only-of-type {\n",
       "        vertical-align: middle;\n",
       "    }\n",
       "\n",
       "    .dataframe tbody tr th {\n",
       "        vertical-align: top;\n",
       "    }\n",
       "\n",
       "    .dataframe thead th {\n",
       "        text-align: right;\n",
       "    }\n",
       "</style>\n",
       "<table border=\"1\" class=\"dataframe\">\n",
       "  <thead>\n",
       "    <tr style=\"text-align: right;\">\n",
       "      <th></th>\n",
       "      <th>userid</th>\n",
       "      <th>version</th>\n",
       "      <th>sum_gamerounds</th>\n",
       "      <th>retention_1</th>\n",
       "      <th>retention_7</th>\n",
       "    </tr>\n",
       "  </thead>\n",
       "  <tbody>\n",
       "    <tr>\n",
       "      <th>0</th>\n",
       "      <td>116</td>\n",
       "      <td>gate_30</td>\n",
       "      <td>3</td>\n",
       "      <td>False</td>\n",
       "      <td>False</td>\n",
       "    </tr>\n",
       "    <tr>\n",
       "      <th>1</th>\n",
       "      <td>337</td>\n",
       "      <td>gate_30</td>\n",
       "      <td>38</td>\n",
       "      <td>True</td>\n",
       "      <td>False</td>\n",
       "    </tr>\n",
       "    <tr>\n",
       "      <th>2</th>\n",
       "      <td>377</td>\n",
       "      <td>gate_40</td>\n",
       "      <td>165</td>\n",
       "      <td>True</td>\n",
       "      <td>False</td>\n",
       "    </tr>\n",
       "    <tr>\n",
       "      <th>3</th>\n",
       "      <td>483</td>\n",
       "      <td>gate_40</td>\n",
       "      <td>1</td>\n",
       "      <td>False</td>\n",
       "      <td>False</td>\n",
       "    </tr>\n",
       "    <tr>\n",
       "      <th>4</th>\n",
       "      <td>488</td>\n",
       "      <td>gate_40</td>\n",
       "      <td>179</td>\n",
       "      <td>True</td>\n",
       "      <td>True</td>\n",
       "    </tr>\n",
       "    <tr>\n",
       "      <th>...</th>\n",
       "      <td>...</td>\n",
       "      <td>...</td>\n",
       "      <td>...</td>\n",
       "      <td>...</td>\n",
       "      <td>...</td>\n",
       "    </tr>\n",
       "    <tr>\n",
       "      <th>90184</th>\n",
       "      <td>9999441</td>\n",
       "      <td>gate_40</td>\n",
       "      <td>97</td>\n",
       "      <td>True</td>\n",
       "      <td>False</td>\n",
       "    </tr>\n",
       "    <tr>\n",
       "      <th>90185</th>\n",
       "      <td>9999479</td>\n",
       "      <td>gate_40</td>\n",
       "      <td>30</td>\n",
       "      <td>False</td>\n",
       "      <td>False</td>\n",
       "    </tr>\n",
       "    <tr>\n",
       "      <th>90186</th>\n",
       "      <td>9999710</td>\n",
       "      <td>gate_30</td>\n",
       "      <td>28</td>\n",
       "      <td>True</td>\n",
       "      <td>False</td>\n",
       "    </tr>\n",
       "    <tr>\n",
       "      <th>90187</th>\n",
       "      <td>9999768</td>\n",
       "      <td>gate_40</td>\n",
       "      <td>51</td>\n",
       "      <td>True</td>\n",
       "      <td>False</td>\n",
       "    </tr>\n",
       "    <tr>\n",
       "      <th>90188</th>\n",
       "      <td>9999861</td>\n",
       "      <td>gate_40</td>\n",
       "      <td>16</td>\n",
       "      <td>False</td>\n",
       "      <td>False</td>\n",
       "    </tr>\n",
       "  </tbody>\n",
       "</table>\n",
       "<p>90189 rows × 5 columns</p>\n",
       "</div>"
      ],
      "text/plain": [
       "        userid  version  sum_gamerounds  retention_1  retention_7\n",
       "0          116  gate_30               3        False        False\n",
       "1          337  gate_30              38         True        False\n",
       "2          377  gate_40             165         True        False\n",
       "3          483  gate_40               1        False        False\n",
       "4          488  gate_40             179         True         True\n",
       "...        ...      ...             ...          ...          ...\n",
       "90184  9999441  gate_40              97         True        False\n",
       "90185  9999479  gate_40              30        False        False\n",
       "90186  9999710  gate_30              28         True        False\n",
       "90187  9999768  gate_40              51         True        False\n",
       "90188  9999861  gate_40              16        False        False\n",
       "\n",
       "[90189 rows x 5 columns]"
      ]
     },
     "execution_count": 5,
     "metadata": {},
     "output_type": "execute_result"
    }
   ],
   "source": [
    "cookie_cats"
   ]
  },
  {
   "cell_type": "code",
   "execution_count": null,
   "id": "ee32e55b",
   "metadata": {},
   "outputs": [],
   "source": [
    "#clean"
   ]
  },
  {
   "cell_type": "code",
   "execution_count": 15,
   "id": "7fe515c2",
   "metadata": {},
   "outputs": [],
   "source": [
    "control = cookie_cats.loc[cookie_cats['version'] == 'gate_30']"
   ]
  },
  {
   "cell_type": "code",
   "execution_count": 16,
   "id": "51a59ff0",
   "metadata": {},
   "outputs": [
    {
     "data": {
      "text/html": [
       "<div>\n",
       "<style scoped>\n",
       "    .dataframe tbody tr th:only-of-type {\n",
       "        vertical-align: middle;\n",
       "    }\n",
       "\n",
       "    .dataframe tbody tr th {\n",
       "        vertical-align: top;\n",
       "    }\n",
       "\n",
       "    .dataframe thead th {\n",
       "        text-align: right;\n",
       "    }\n",
       "</style>\n",
       "<table border=\"1\" class=\"dataframe\">\n",
       "  <thead>\n",
       "    <tr style=\"text-align: right;\">\n",
       "      <th></th>\n",
       "      <th>userid</th>\n",
       "      <th>version</th>\n",
       "      <th>sum_gamerounds</th>\n",
       "      <th>retention_1</th>\n",
       "      <th>retention_7</th>\n",
       "    </tr>\n",
       "  </thead>\n",
       "  <tbody>\n",
       "    <tr>\n",
       "      <th>0</th>\n",
       "      <td>116</td>\n",
       "      <td>gate_30</td>\n",
       "      <td>3</td>\n",
       "      <td>False</td>\n",
       "      <td>False</td>\n",
       "    </tr>\n",
       "    <tr>\n",
       "      <th>1</th>\n",
       "      <td>337</td>\n",
       "      <td>gate_30</td>\n",
       "      <td>38</td>\n",
       "      <td>True</td>\n",
       "      <td>False</td>\n",
       "    </tr>\n",
       "    <tr>\n",
       "      <th>6</th>\n",
       "      <td>1066</td>\n",
       "      <td>gate_30</td>\n",
       "      <td>0</td>\n",
       "      <td>False</td>\n",
       "      <td>False</td>\n",
       "    </tr>\n",
       "    <tr>\n",
       "      <th>11</th>\n",
       "      <td>2101</td>\n",
       "      <td>gate_30</td>\n",
       "      <td>0</td>\n",
       "      <td>False</td>\n",
       "      <td>False</td>\n",
       "    </tr>\n",
       "    <tr>\n",
       "      <th>13</th>\n",
       "      <td>2179</td>\n",
       "      <td>gate_30</td>\n",
       "      <td>39</td>\n",
       "      <td>True</td>\n",
       "      <td>False</td>\n",
       "    </tr>\n",
       "    <tr>\n",
       "      <th>...</th>\n",
       "      <td>...</td>\n",
       "      <td>...</td>\n",
       "      <td>...</td>\n",
       "      <td>...</td>\n",
       "      <td>...</td>\n",
       "    </tr>\n",
       "    <tr>\n",
       "      <th>90179</th>\n",
       "      <td>9998576</td>\n",
       "      <td>gate_30</td>\n",
       "      <td>14</td>\n",
       "      <td>True</td>\n",
       "      <td>False</td>\n",
       "    </tr>\n",
       "    <tr>\n",
       "      <th>90180</th>\n",
       "      <td>9998623</td>\n",
       "      <td>gate_30</td>\n",
       "      <td>7</td>\n",
       "      <td>False</td>\n",
       "      <td>False</td>\n",
       "    </tr>\n",
       "    <tr>\n",
       "      <th>90182</th>\n",
       "      <td>9999178</td>\n",
       "      <td>gate_30</td>\n",
       "      <td>21</td>\n",
       "      <td>True</td>\n",
       "      <td>False</td>\n",
       "    </tr>\n",
       "    <tr>\n",
       "      <th>90183</th>\n",
       "      <td>9999349</td>\n",
       "      <td>gate_30</td>\n",
       "      <td>10</td>\n",
       "      <td>False</td>\n",
       "      <td>False</td>\n",
       "    </tr>\n",
       "    <tr>\n",
       "      <th>90186</th>\n",
       "      <td>9999710</td>\n",
       "      <td>gate_30</td>\n",
       "      <td>28</td>\n",
       "      <td>True</td>\n",
       "      <td>False</td>\n",
       "    </tr>\n",
       "  </tbody>\n",
       "</table>\n",
       "<p>44700 rows × 5 columns</p>\n",
       "</div>"
      ],
      "text/plain": [
       "        userid  version  sum_gamerounds  retention_1  retention_7\n",
       "0          116  gate_30               3        False        False\n",
       "1          337  gate_30              38         True        False\n",
       "6         1066  gate_30               0        False        False\n",
       "11        2101  gate_30               0        False        False\n",
       "13        2179  gate_30              39         True        False\n",
       "...        ...      ...             ...          ...          ...\n",
       "90179  9998576  gate_30              14         True        False\n",
       "90180  9998623  gate_30               7        False        False\n",
       "90182  9999178  gate_30              21         True        False\n",
       "90183  9999349  gate_30              10        False        False\n",
       "90186  9999710  gate_30              28         True        False\n",
       "\n",
       "[44700 rows x 5 columns]"
      ]
     },
     "execution_count": 16,
     "metadata": {},
     "output_type": "execute_result"
    }
   ],
   "source": [
    "control"
   ]
  },
  {
   "cell_type": "code",
   "execution_count": 50,
   "id": "c84a8cc6",
   "metadata": {},
   "outputs": [
    {
     "data": {
      "text/plain": [
       "userid            45489\n",
       "version           45489\n",
       "sum_gamerounds    45489\n",
       "retention_1       45489\n",
       "retention_7       45489\n",
       "dtype: int64"
      ]
     },
     "execution_count": 50,
     "metadata": {},
     "output_type": "execute_result"
    }
   ],
   "source": [
    "treatment = cookie_cats.loc[cookie_cats['version'] == 'gate_40']\n"
   ]
  },
  {
   "cell_type": "code",
   "execution_count": 51,
   "id": "ea0f127b",
   "metadata": {
    "scrolled": true
   },
   "outputs": [
    {
     "data": {
      "text/plain": [
       "gate_40    45489\n",
       "gate_30    44700\n",
       "Name: version, dtype: int64"
      ]
     },
     "execution_count": 51,
     "metadata": {},
     "output_type": "execute_result"
    }
   ],
   "source": [
    "cookie_cats.version.value_counts()"
   ]
  },
  {
   "cell_type": "code",
   "execution_count": 73,
   "id": "6f3d7f68",
   "metadata": {},
   "outputs": [],
   "source": [
    "control_results = cookie_cats[cookie_cats['version']=='gate_30']['retention_1']"
   ]
  },
  {
   "cell_type": "code",
   "execution_count": 74,
   "id": "1536838a",
   "metadata": {},
   "outputs": [],
   "source": [
    "treatment_results = cookie_cats[cookie_cats['version']=='gate_40']['retention_1']"
   ]
  },
  {
   "cell_type": "code",
   "execution_count": null,
   "id": "18d46756",
   "metadata": {},
   "outputs": [],
   "source": [
    "impresiones = [control_results.shape[0], treatment_results.shape[0]]   # entrar en al pagina \n",
    "\n",
    "conversiones = [sum(control_res), sum(trat_res)]  # comprar en la pagina\n",
    "\n",
    "\n",
    "\n",
    "z_score, p_value = proportions_ztest(conversiones, \n",
    "                                     nobs=impresiones)\n",
    "\n",
    "\n",
    "(control_a, trata_a), (control_b, trata_b) = proportion_confint(conversiones, \n",
    "                                                                nobs=impresiones,\n",
    "                                                                alpha=0.05)"
   ]
  },
  {
   "cell_type": "code",
   "execution_count": 78,
   "id": "0cc7c3ec",
   "metadata": {},
   "outputs": [],
   "source": [
    "impresiones = [control_results.shape[0], treatment_results.shape[0]]  \n",
    "conversiones = [sum(control_results), sum(treatment_results)] \n",
    "z_score, p_value = proportions_ztest(conversiones, nobs=impresiones)"
   ]
  },
  {
   "cell_type": "code",
   "execution_count": 81,
   "id": "d3f393cd",
   "metadata": {},
   "outputs": [
    {
     "data": {
      "text/plain": [
       "(1.7840862247974725, 0.07440965529691913)"
      ]
     },
     "execution_count": 81,
     "metadata": {},
     "output_type": "execute_result"
    }
   ],
   "source": [
    "z_score, p_value"
   ]
  },
  {
   "cell_type": "code",
   "execution_count": 82,
   "id": "e5f2585f",
   "metadata": {},
   "outputs": [],
   "source": [
    "(control_a, trata_a), (control_b, trata_b) = proportion_confint(conversiones, \n",
    "                                                                nobs=impresiones,\n",
    "                                                                alpha=0.05)"
   ]
  },
  {
   "cell_type": "code",
   "execution_count": 83,
   "id": "ce865643",
   "metadata": {},
   "outputs": [
    {
     "name": "stdout",
     "output_type": "stream",
     "text": [
      "z-score: 1.78\n",
      "p-valor: 0.074\n",
      "intervalo conf 95% para grupo control: [0.444, 0.453]\n",
      "intervalo conf 95% para grupo tratamiento: [0.438, 0.447]\n"
     ]
    }
   ],
   "source": [
    "print(f'z-score: {z_score:.2f}')\n",
    "\n",
    "print(f'p-valor: {p_value:.3f}')\n",
    "\n",
    "print(f'intervalo conf 95% para grupo control: [{control_a:.3f}, {control_b:.3f}]')\n",
    "\n",
    "print(f'intervalo conf 95% para grupo tratamiento: [{trata_a:.3f}, {trata_b:.3f}]')"
   ]
  },
  {
   "cell_type": "markdown",
   "id": "b00cb8cb",
   "metadata": {},
   "source": [
    "Dado que el p-valor= 0.074 es ligeramente mayor que α =0.05, no podemos rechazar la hipótesis nula H 0. Es decir, el rendimiento de H1 y el de H0 no son signifcativamente distintos."
   ]
  },
  {
   "cell_type": "code",
   "execution_count": 84,
   "id": "2685a019",
   "metadata": {},
   "outputs": [
    {
     "name": "stdout",
     "output_type": "stream",
     "text": [
      "z-score: 3.16\n",
      "p-valor: 0.002\n",
      "intervalo conf 95% para grupo control: [0.187, 0.178]\n",
      "intervalo conf 95% para grupo tratamiento: [0.194, 0.186]\n"
     ]
    }
   ],
   "source": [
    "control_results = control['retention_7']\n",
    "treatment_results = treatment['retention_7']\n",
    "\n",
    "impresiones = [control_results.shape[0], treatment_results.shape[0]]\n",
    "conversiones = [sum(control_results), sum(treatment_results)]\n",
    "\n",
    "# Realiza el test de hipótesis y obtén los resultados\n",
    "z_score, p_value = proportions_ztest(conversiones, nobs=impresiones)\n",
    "\n",
    "# Calcula los intervalos de confianza\n",
    "(control_a, control_b), (tratamiento_a, tratamiento_b) = proportion_confint(conversiones, nobs=impresiones, alpha=0.05)\n",
    "\n",
    "\n",
    "# Imprime los resultados\n",
    "print(f'z-score: {z_score:.2f}')\n",
    "print(f'p-valor: {p_value:.3f}')\n",
    "print(f'intervalo conf 95% para grupo control: [{control_a:.3f}, {control_b:.3f}]')\n",
    "print(f'intervalo conf 95% para grupo tratamiento: [{tratamiento_a:.3f}, {tratamiento_b:.3f}]')"
   ]
  },
  {
   "cell_type": "markdown",
   "id": "79c3a6e0",
   "metadata": {},
   "source": [
    "En este caso, la hipotesis H0 se tiene que rechazar. El resultado es menor a α = 0.05. Es decir, si tiene un rendimiento significativamente distinto H1 a H0. Es decir, la retencion incrementa sustancialmente con la nueva modalidad y es evidente en el septimo dia, cuando al comparar la retención es mayor."
   ]
  },
  {
   "cell_type": "code",
   "execution_count": null,
   "id": "39cdc1ae",
   "metadata": {},
   "outputs": [],
   "source": []
  },
  {
   "cell_type": "code",
   "execution_count": null,
   "id": "39179c5a",
   "metadata": {},
   "outputs": [],
   "source": []
  },
  {
   "cell_type": "code",
   "execution_count": null,
   "id": "261cf264",
   "metadata": {},
   "outputs": [],
   "source": []
  },
  {
   "cell_type": "code",
   "execution_count": null,
   "id": "b83b2379",
   "metadata": {},
   "outputs": [],
   "source": []
  },
  {
   "cell_type": "code",
   "execution_count": null,
   "id": "2d2b6257",
   "metadata": {},
   "outputs": [],
   "source": []
  },
  {
   "cell_type": "code",
   "execution_count": null,
   "id": "9d3bc6ea",
   "metadata": {},
   "outputs": [],
   "source": []
  },
  {
   "cell_type": "code",
   "execution_count": null,
   "id": "421e4d79",
   "metadata": {},
   "outputs": [],
   "source": []
  },
  {
   "cell_type": "code",
   "execution_count": null,
   "id": "d4a4237a",
   "metadata": {},
   "outputs": [],
   "source": []
  },
  {
   "cell_type": "code",
   "execution_count": null,
   "id": "5f7391ae",
   "metadata": {},
   "outputs": [],
   "source": []
  }
 ],
 "metadata": {
  "finalized": {
   "timestamp": 1642857010293,
   "trusted": true
  },
  "kernelspec": {
   "display_name": "Python 3 (ipykernel)",
   "language": "python",
   "name": "python3"
  },
  "language_info": {
   "codemirror_mode": {
    "name": "ipython",
    "version": 3
   },
   "file_extension": ".py",
   "mimetype": "text/x-python",
   "name": "python",
   "nbconvert_exporter": "python",
   "pygments_lexer": "ipython3",
   "version": "3.10.9"
  },
  "toc": {
   "base_numbering": 1,
   "nav_menu": {},
   "number_sections": true,
   "sideBar": true,
   "skip_h1_title": false,
   "title_cell": "Table of Contents",
   "title_sidebar": "Contents",
   "toc_cell": true,
   "toc_position": {},
   "toc_section_display": true,
   "toc_window_display": false
  },
  "varInspector": {
   "cols": {
    "lenName": 16,
    "lenType": 16,
    "lenVar": 40
   },
   "kernels_config": {
    "python": {
     "delete_cmd_postfix": "",
     "delete_cmd_prefix": "del ",
     "library": "var_list.py",
     "varRefreshCmd": "print(var_dic_list())"
    },
    "r": {
     "delete_cmd_postfix": ") ",
     "delete_cmd_prefix": "rm(",
     "library": "var_list.r",
     "varRefreshCmd": "cat(var_dic_list()) "
    }
   },
   "types_to_exclude": [
    "module",
    "function",
    "builtin_function_or_method",
    "instance",
    "_Feature"
   ],
   "window_display": false
  }
 },
 "nbformat": 4,
 "nbformat_minor": 5
}
