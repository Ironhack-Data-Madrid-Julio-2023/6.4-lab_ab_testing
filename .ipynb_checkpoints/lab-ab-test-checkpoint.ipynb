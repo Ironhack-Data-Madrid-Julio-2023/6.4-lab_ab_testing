{
 "cells": [
  {
   "cell_type": "markdown",
   "id": "angry-pearl",
   "metadata": {
    "toc": true
   },
   "source": [
    "<h1>Table of Contents<span class=\"tocSkip\"></span></h1>\n",
    "<div class=\"toc\"><ul class=\"toc-item\"><li><span><a href=\"#AB-Testing\" data-toc-modified-id=\"AB-Testing-1\"><span class=\"toc-item-num\">1&nbsp;&nbsp;</span>AB-Testing</a></span></li></ul></div>"
   ]
  },
  {
   "cell_type": "markdown",
   "id": "c92ba6e0",
   "metadata": {},
   "source": [
    "# AB-Testing\n",
    "\n",
    "![cats](images/cats.jpeg)\n",
    "\n",
    "\n",
    "Imaginad que somos los cientificos de datos de la empresa de videojuegos Tactile Entertainment. Los desarrolladores del juego Cookie Cats pretenden introducir un cambio en el juego para aumentar la retencion de los jugadores. En cierto nivel del juego los jugadores se encuentran una puerta que les obliga a esperar o a pagar la app. Actualmente la puerta se encuentra en nivel 30 y se pretende pasar al nivel 40, para comprobar la retencion a 1 y 7 dias. Antes de realizar el cambio definitivo en el juego se raliza un test AB.\n",
    "\n",
    "Los datos estan alojados en `data/cookie_cats.csv`. Nuestro grupo de control sera la version actual `gate_30` y el grupo de tratamiento sera la version `gate_40`. Debemos realizar el test para 1 dia de retencion `retention_1` y para 7 dias `retention_7`."
   ]
  },
  {
   "cell_type": "code",
   "execution_count": 1,
   "id": "ac3b2f52",
   "metadata": {},
   "outputs": [],
   "source": [
    "# librerias\n",
    "\n",
    "import pandas as pd\n",
    "import numpy as np\n",
    "\n",
    "from statsmodels.stats.proportion import proportions_ztest, proportion_confint\n",
    "from scipy.stats import norm, sem\n",
    "\n",
    "import pylab as plt"
   ]
  },
  {
   "cell_type": "code",
   "execution_count": 3,
   "id": "7fe515c2",
   "metadata": {},
   "outputs": [
    {
     "name": "stdout",
     "output_type": "stream",
     "text": [
      "        userid  version  sum_gamerounds  retention_1  retention_7\n",
      "0          116  gate_30               3        False        False\n",
      "1          337  gate_30              38         True        False\n",
      "2          377  gate_40             165         True        False\n",
      "3          483  gate_40               1        False        False\n",
      "4          488  gate_40             179         True         True\n",
      "...        ...      ...             ...          ...          ...\n",
      "90184  9999441  gate_40              97         True        False\n",
      "90185  9999479  gate_40              30        False        False\n",
      "90186  9999710  gate_30              28         True        False\n",
      "90187  9999768  gate_40              51         True        False\n",
      "90188  9999861  gate_40              16        False        False\n",
      "\n",
      "[90189 rows x 5 columns]\n"
     ]
    }
   ],
   "source": [
    "data = pd.read_csv('data/cookie_cats.csv')\n",
    "print (data)"
   ]
  },
  {
   "cell_type": "code",
   "execution_count": 5,
   "id": "f2e6147a",
   "metadata": {},
   "outputs": [],
   "source": [
    "# Segmentación de los grupos de control y tratamiento:\n",
    "\n",
    "#Utilizaremos el grupo de control gate_30 para la versión actual del juego.\n",
    "#El grupo de tratamiento gate_40 para la nueva versión del juego.\n",
    "\n",
    "control_group = data[data['version'] == 'gate_30']\n",
    "treatment_group = data[data['version'] == 'gate_40']\n",
    "\n"
   ]
  },
  {
   "cell_type": "code",
   "execution_count": 9,
   "id": "5b90c429",
   "metadata": {},
   "outputs": [
    {
     "name": "stdout",
     "output_type": "stream",
     "text": [
      "0.4481879194630872\n",
      "0.44228274967574577\n"
     ]
    }
   ],
   "source": [
    "# testeo para la retención de un día para ambos grupos:\n",
    "\n",
    "retention_1_control = control_group['retention_1'].mean()\n",
    "retention_1_treatment = treatment_group['retention_1'].mean()\n",
    "\n",
    "print(retention_1_control) #VERSIÓN ACTUAL\n",
    "print(retention_1_treatment) #VERSIÓN NUEVA"
   ]
  },
  {
   "cell_type": "code",
   "execution_count": 8,
   "id": "a048a711",
   "metadata": {},
   "outputs": [
    {
     "name": "stdout",
     "output_type": "stream",
     "text": [
      "0.19020134228187918\n",
      "0.18200004396667327\n"
     ]
    }
   ],
   "source": [
    "# Calculamos la retención de 7 días para ambos grupos\n",
    "retention_7_control = control_group['retention_7'].mean()\n",
    "retention_7_treatment = treatment_group['retention_7'].mean()\n",
    "\n",
    "print(retention_7_control) #VERSIÓN ACTUAL\n",
    "print(retention_7_treatment) #VERSIÓN NUEVA\n",
    "\n"
   ]
  },
  {
   "cell_type": "code",
   "execution_count": 11,
   "id": "86370c04",
   "metadata": {},
   "outputs": [],
   "source": [
    "# Realizamos las pruebas de hipótesis para comparar los grupos de control y tratamiento:\n",
    "from scipy.stats import ttest_ind\n",
    "\n",
    "t_stat_1, p_value_1 = ttest_ind(control_group['retention_1'], treatment_group['retention_1'])\n",
    "t_stat_7, p_value_7 = ttest_ind(control_group['retention_7'], treatment_group['retention_7'])\n"
   ]
  },
  {
   "cell_type": "code",
   "execution_count": 12,
   "id": "cooked-magnet",
   "metadata": {},
   "outputs": [
    {
     "name": "stdout",
     "output_type": "stream",
     "text": [
      "Retención de 1 día:\n",
      "Grupo de control: 0.4481879194630872\n",
      "Grupo de tratamiento: 0.44228274967574577\n",
      "p-value: 0.07441111525563184\n",
      "\n",
      "Retención de 7 días:\n",
      "Grupo de control: 0.19020134228187918\n",
      "Grupo de tratamiento: 0.18200004396667327\n",
      "p-value: 0.0015540151201088365\n"
     ]
    }
   ],
   "source": [
    "\n",
    "#Imprimir resultados del test A/B:\n",
    "print(\"Retención de 1 día:\")\n",
    "print(\"Grupo de control:\", retention_1_control)\n",
    "print(\"Grupo de tratamiento:\", retention_1_treatment)\n",
    "print(\"p-value:\", p_value_1)\n",
    "print(\"\")\n",
    "\n",
    "print(\"Retención de 7 días:\")\n",
    "print(\"Grupo de control:\", retention_7_control)\n",
    "print(\"Grupo de tratamiento:\", retention_7_treatment)\n",
    "print(\"p-value:\", p_value_7)\n"
   ]
  },
  {
   "cell_type": "code",
   "execution_count": null,
   "id": "9098e206",
   "metadata": {},
   "outputs": [],
   "source": [
    "#Conclusión:\n",
    "#RETENCIÓN DE 1 DÍA:\n",
    "#En el grupo de control (versión actual del juego, gate_30) es de aproximadamente 0.448, \n",
    "#Grupo de tratamiento (nueva versión del juego, gate_40) es de aproximadamente 0.442. \n",
    "#Esto indica que la retención de 1 día es ligeramente mayor en el grupo de control, pero la diferencia no es estadísticamente significativa ya que el valor de p es de 0.074.\n",
    "\n",
    "#RETENCIÓN DE 7 DÍAS: muestra una diferencia más notable. \n",
    "#En el grupo de control: la retención de 7 días es de aproximadamente 0.190.\n",
    "#Grupo de tratamiento es de aproximadamente 0.182. En este caso, la diferencia es estadísticamente significativa ya que el valor de p es menor a 0.05 (0.00155). \n",
    "#Esto indica que existe una disminución en la retención de 7 días en el grupo de tratamiento.\n",
    "\n",
    "#CONCLUSIÓN: hay más retención en la versión actual del juego en la puerta 30."
   ]
  }
 ],
 "metadata": {
  "finalized": {
   "timestamp": 1642857010293,
   "trusted": true
  },
  "kernelspec": {
   "display_name": "Python 3 (ipykernel)",
   "language": "python",
   "name": "python3"
  },
  "language_info": {
   "codemirror_mode": {
    "name": "ipython",
    "version": 3
   },
   "file_extension": ".py",
   "mimetype": "text/x-python",
   "name": "python",
   "nbconvert_exporter": "python",
   "pygments_lexer": "ipython3",
   "version": "3.10.9"
  },
  "toc": {
   "base_numbering": 1,
   "nav_menu": {},
   "number_sections": true,
   "sideBar": true,
   "skip_h1_title": false,
   "title_cell": "Table of Contents",
   "title_sidebar": "Contents",
   "toc_cell": true,
   "toc_position": {},
   "toc_section_display": true,
   "toc_window_display": false
  },
  "varInspector": {
   "cols": {
    "lenName": 16,
    "lenType": 16,
    "lenVar": 40
   },
   "kernels_config": {
    "python": {
     "delete_cmd_postfix": "",
     "delete_cmd_prefix": "del ",
     "library": "var_list.py",
     "varRefreshCmd": "print(var_dic_list())"
    },
    "r": {
     "delete_cmd_postfix": ") ",
     "delete_cmd_prefix": "rm(",
     "library": "var_list.r",
     "varRefreshCmd": "cat(var_dic_list()) "
    }
   },
   "types_to_exclude": [
    "module",
    "function",
    "builtin_function_or_method",
    "instance",
    "_Feature"
   ],
   "window_display": false
  }
 },
 "nbformat": 4,
 "nbformat_minor": 5
}
